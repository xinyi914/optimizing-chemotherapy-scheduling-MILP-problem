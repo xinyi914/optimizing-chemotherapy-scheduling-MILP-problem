{
 "cells": [
  {
   "cell_type": "code",
   "execution_count": 1,
   "id": "014e426b",
   "metadata": {},
   "outputs": [],
   "source": [
    "import gurobipy as gp\n",
    "from gurobipy import GRB,QuadExpr,nlfunc\n",
    "import scipy.io\n",
    "import numpy as np\n",
    "import math"
   ]
  },
  {
   "cell_type": "code",
   "execution_count": 2,
   "id": "2a88c3a3",
   "metadata": {},
   "outputs": [],
   "source": [
    "p = np.array([15,9,8,5,8,2,0])\n",
    "# p = np.array([21,8,5,10,7,2,0])"
   ]
  },
  {
   "cell_type": "code",
   "execution_count": 3,
   "id": "945cd8b8",
   "metadata": {},
   "outputs": [],
   "source": [
    "lambda1 = 50\n",
    "lambda2 = 4\n",
    "lambda3 = 1\n",
    "lambda4 = 2\n",
    "lambda5 = 3"
   ]
  },
  {
   "cell_type": "code",
   "execution_count": 4,
   "id": "68359ce5",
   "metadata": {},
   "outputs": [],
   "source": [
    "c = [\n",
    "    [1, 2, 2, 0, 0, 2, 1, 2, 1, 1, 2, 0, 0, 0, 0, 0, 0, 0, 1, 0, 2, 0, 0, 1, 0, 1, 0, 0, 0, 0, 0, 1, 1, 1, 1, 0, 0, 0, 0, 0, 0],\n",
    "    [0, 0, 0, 0, 2, 0, 0, 0, 2, 1, 0, 0, 1, 0, 0, 0, 0, 0, 0, 1, 0, 0, 0, 0, 0, 0, 0, 0, 0, 0, 1, 0, 0, 0, 0, 0, 0, 0, 0, 0, 0],\n",
    "    [0, 0, 1, 0, 0, 0, 0, 1, 1, 0, 0, 1, 1, 0, 0, 0, 0, 0, 0, 0, 0, 0, 1, 0, 0, 0, 0, 2, 1, 0, 0, 1, 0, 0, 0, 0, 0, 0, 0, 0, 0],\n",
    "    [0, 0, 0, 1, 0, 0, 1, 0, 1, 1, 0, 0, 1, 0, 0, 1, 2, 0, 0, 1, 0, 0, 0, 0, 0, 0, 0, 0, 2, 0, 0, 0, 0, 0, 0, 0, 0, 0, 0, 0, 0],\n",
    "    [0, 0, 0, 1, 0, 0, 0, 0, 0, 0, 0, 0, 0, 0, 0, 1, 0, 0, 0, 0, 1, 1, 1, 0, 1, 0, 0, 0, 0, 0, 0, 0, 0, 0, 0, 0, 0, 0, 0, 0, 0],\n",
    "    [0, 0, 0, 0, 0, 0, 0, 0, 1, 0, 0, 0, 1, 0, 0, 0, 0, 0, 0, 0, 0, 0, 0, 0, 0, 0, 0, 0, 0, 0, 0, 0, 0, 0, 0, 0, 0, 0, 0, 0, 0],\n",
    "    [0, 0, 0, 0, 0, 0, 0, 0, 0, 0, 0, 0, 0, 1, 0, 0, 0, 0, 0, 0, 0, 0, 0, 0, 0, 0, 0, 0, 0, 0, 0, 0, 0, 0, 0, 0, 0, 0, 0, 0, 0]]\n",
    "c = np.array(c)\n",
    "T = np.array([30,60,120,180,240,300,360])\n",
    "time_step = 41\n",
    "patient_type = 7\n",
    "bed_number = 14\n"
   ]
  },
  {
   "cell_type": "code",
   "execution_count": 5,
   "id": "411bf4af",
   "metadata": {},
   "outputs": [
    {
     "data": {
      "text/plain": [
       "7"
      ]
     },
     "execution_count": 5,
     "metadata": {},
     "output_type": "execute_result"
    }
   ],
   "source": [
    "c.shape[0]"
   ]
  },
  {
   "cell_type": "code",
   "execution_count": 6,
   "id": "aa68085c",
   "metadata": {},
   "outputs": [],
   "source": [
    "# decides if the time slot (i',j',t) exists: j'th appointment slot for a\n",
    "# type i' patient at time t\n",
    "B = np.zeros([patient_type,2,time_step])\n",
    "for i in range(c.shape[0]):\n",
    "    for j in range(c.shape[1]):\n",
    "        if c[i,j] == 1:\n",
    "            B[i,0,j] = 1\n",
    "        elif c[i,j] == 2:\n",
    "            B[i,0,j] = 1\n",
    "            B[i,1,j] = 1  "
   ]
  },
  {
   "cell_type": "code",
   "execution_count": 7,
   "id": "a43437a0",
   "metadata": {},
   "outputs": [],
   "source": [
    "# decides if the binary variable xo exists(binary variable for override policy 1) \n",
    "B_xo = np.zeros([patient_type,patient_type,2,time_step])\n",
    "for i in range(B_xo.shape[0]):\n",
    "    for j in range(B_xo.shape[1]):\n",
    "        if i < j:\n",
    "            B_xo[i,j,:,:] = B[j,:,:]\n"
   ]
  },
  {
   "cell_type": "code",
   "execution_count": 8,
   "id": "bbdbd4c3",
   "metadata": {},
   "outputs": [],
   "source": [
    "# decides if the binary variable x exists(binary variable for override\n",
    "# policy 1 and cases that exactly assigning the appointments to the time slot)\n",
    "B_x = np.zeros([patient_type,patient_type,2,time_step])\n",
    "for i in range(B_x.shape[0]):\n",
    "    for j in range(B_x.shape[1]):\n",
    "        if i <= j:\n",
    "            B_x[i,j,:,:] = B[j,:,:]\n"
   ]
  },
  {
   "cell_type": "code",
   "execution_count": 9,
   "id": "7946d2bb",
   "metadata": {},
   "outputs": [],
   "source": [
    "# information about the y,z,w (binary variables for override policy 2)\n",
    "# the chair/bed where time slot(i',j',t) is in\n",
    "chair = np.zeros([patient_type,time_step,2])\n",
    "# chair for patient type1 30\n",
    "chair[0, 0, 0] = 1\n",
    "chair[0, 1, 0] = 2\n",
    "chair[0, 1, 1] = 3\n",
    "chair[0, 2, 0] = 1\n",
    "chair[0, 2, 1] = 4\n",
    "chair[0, 5, 0] = 3\n",
    "chair[0, 5, 1] = 4\n",
    "chair[0, 6, 0] = 8\n",
    "chair[0, 7, 0] = 3\n",
    "chair[0, 7, 1] = 4\n",
    "chair[0, 8, 0] = 1\n",
    "chair[0, 9, 0] = 3\n",
    "chair[0, 10, 0] = 1\n",
    "chair[0, 10, 1] = 5\n",
    "chair[0, 18, 0] = 9\n",
    "chair[0, 20, 0] = 2\n",
    "chair[0, 20, 1] = 9\n",
    "chair[0, 23, 0] = 7\n",
    "chair[0, 25, 0] = 7\n",
    "chair[0, 31, 0] = 10\n",
    "chair[0, 32, 0] = 8\n",
    "chair[0, 33, 0] = 10\n",
    "chair[0, 34, 0] = 2\n",
    "\n",
    "# chair for patient type2 60\n",
    "chair[1, 4, 0] = 1\n",
    "chair[1, 4, 1] = 2\n",
    "chair[1, 8, 0] = 2\n",
    "chair[1, 8, 1] = 8\n",
    "chair[1, 9, 0] = 4\n",
    "chair[1, 12, 0] = 1\n",
    "chair[1, 19, 0] = 7\n",
    "chair[1, 30, 0] = 2\n",
    "\n",
    "# chair for patient type3 120\n",
    "chair[2, 2, 0] = 5\n",
    "chair[2, 7, 0] = 10\n",
    "chair[2, 8, 0] = 11\n",
    "chair[2, 11, 0] = 3\n",
    "chair[2, 22, 0] = 2\n",
    "chair[2, 27, 0] = 2\n",
    "chair[2, 27, 0] = 6\n",
    "chair[2, 27, 1] = 7\n",
    "chair[2, 28, 0] = 13\n",
    "chair[2, 31, 0] = 3\n",
    "\n",
    "# chair for patient type4 180\n",
    "chair[3, 3, 0] = 6\n",
    "chair[3, 6, 0] = 9\n",
    "chair[3, 8, 0] = 12\n",
    "chair[3, 9, 0] = 14\n",
    "chair[3, 12, 0] = 5\n",
    "chair[3, 15, 0] = 6\n",
    "chair[3, 16, 0] = 1\n",
    "chair[3, 16, 1] = 11\n",
    "chair[3, 19, 0] = 3\n",
    "chair[3, 28, 0] = 1\n",
    "chair[3, 28, 1] = 11\n",
    "\n",
    "# chair for patient type5 240\n",
    "chair[4, 3, 0] = 7\n",
    "chair[4, 15, 0] = 10\n",
    "chair[4, 20, 0] = 12\n",
    "chair[4, 21, 0] = 14\n",
    "chair[4, 22, 0] = 9\n",
    "chair[4, 24, 0] = 5\n",
    "\n",
    "# chair for patient type6 300\n",
    "chair[5, 8, 0] = 13\n",
    "chair[5, 12, 0] = 8\n",
    "\n",
    "# chair for patient type7 360\n",
    "chair[6, 13, 0] = 4"
   ]
  },
  {
   "cell_type": "code",
   "execution_count": 10,
   "id": "2cda575e",
   "metadata": {},
   "outputs": [],
   "source": [
    "chair_tran = np.transpose(chair, (0, 2, 1))"
   ]
  },
  {
   "cell_type": "code",
   "execution_count": 11,
   "id": "460b58d5",
   "metadata": {},
   "outputs": [],
   "source": [
    "# decides if the two time slots (i',j',t) and (i\",j\",t+i'/15) on the same bed exists for\n",
    "# combining\n",
    "Y = np.zeros([patient_type,patient_type,2,2,time_step])\n",
    "Z = np.zeros([patient_type,2,time_step])\n",
    "W = np.zeros([patient_type,2,time_step])\n",
    "\n",
    "for i in range(c.shape[0]):\n",
    "    for j in range(c.shape[1]): # it is t\n",
    "        for h in range(c.shape[0]): # it is i\"\n",
    "            t = int(j+(T[i]/15))\n",
    "            if c[i,j] != 0 and c[h,t] != 0 and t <= time_step-1:\n",
    "                if chair[i,j,0] == chair[h,t,0] and chair[i,j,0] != 0:\n",
    "                    Y[i,h,0,0,j] = 1\n",
    "                    Z[i,0,j] = 1\n",
    "                    W[h,0,t] = 1\n",
    "                if chair[i,j,0] == chair[h,t,1] and chair[i,j,0] != 0:\n",
    "                    Y[i,h,0,1,j] = 1\n",
    "                    Z[i,0,j] = 1\n",
    "                    W[h,1,t] = 1\n",
    "                if chair[i,j,1] == chair[h,t,0] and chair[i,j,1] != 0:\n",
    "                    Y[i,h,1,0,j] = 1\n",
    "                    Z[i,1,j] = 1\n",
    "                    W[h,0,t] = 1\n",
    "                if chair[i,j,1] == chair[h,t,1] and chair[i,j,1] != 0:\n",
    "                    Y[i,h,1,1,j] = 1\n",
    "                    Z[i,1,j] = 1\n",
    "                    W[h,1,t] = 1"
   ]
  },
  {
   "cell_type": "code",
   "execution_count": 12,
   "id": "122c09d8",
   "metadata": {},
   "outputs": [
    {
     "data": {
      "text/plain": [
       "63.0"
      ]
     },
     "execution_count": 12,
     "metadata": {},
     "output_type": "execute_result"
    }
   ],
   "source": [
    "j+(T[i]/15)-1"
   ]
  },
  {
   "cell_type": "code",
   "execution_count": 13,
   "id": "e76d4791",
   "metadata": {},
   "outputs": [],
   "source": [
    "# decides if the appointment could use override policy 2, being assigned to\n",
    "# a combined time slot \n",
    "B_y = np.zeros([patient_type,patient_type,patient_type,2,2,time_step])\n",
    "B_z = np.zeros([patient_type,patient_type,2,time_step])\n",
    "B_w = np.zeros([patient_type,patient_type,2,time_step])\n",
    "\n",
    "for i in range(B_y.shape[0]): #i\n",
    "    for j in range(B_y.shape[1]): #i'\n",
    "        for h in range(B_y.shape[2]): #i\"\n",
    "            if i > j and i > h and T[j]+T[h] >= T[i]:\n",
    "                B_y[i,j,h,:,:,:] = Y[j,h,:,:,:]\n",
    "                B_z[i,j,:,:] = Z[j,:,:]\n",
    "                B_w[i,h,:,:] = W[h,:,:]"
   ]
  },
  {
   "cell_type": "code",
   "execution_count": 14,
   "id": "ef58a6ca",
   "metadata": {},
   "outputs": [],
   "source": [
    "# information for override policy 3\n",
    "# decides if the time slot safisfied override policy exist\n",
    "V = np.zeros([patient_type,time_step,2])\n",
    "for i in range(c.shape[0]):\n",
    "    for j in range(c.shape[1]):\n",
    "        if c[i,j] == 1:\n",
    "            V[i,j,0] = 1\n",
    "        elif c[i,j] == 2:\n",
    "            V[i,j,0] = 1\n",
    "            V[i,j,1] = 1"
   ]
  },
  {
   "cell_type": "code",
   "execution_count": 15,
   "id": "911025ca",
   "metadata": {},
   "outputs": [],
   "source": [
    "# decides if the apoointment i and i\" could use override policy in time\n",
    "# slot(i',t,j') \n",
    "B_v = np.zeros([patient_type,patient_type,patient_type,time_step,2])\n",
    "for i in range(B_v.shape[0]):\n",
    "    for j in range(B_v.shape[1]):\n",
    "        for h in range(B_v.shape[2]):\n",
    "            if i < h and j < h and T[i] + T[j] <= T[h]:\n",
    "                B_v[i,j,h,:,:] = V[h,:,:]\n"
   ]
  },
  {
   "cell_type": "code",
   "execution_count": 16,
   "id": "9a07a563",
   "metadata": {},
   "outputs": [],
   "source": [
    "# index that variables are zero\n",
    "zeroIndices_bx = (B_x==0);\n",
    "zeroIndices_bxo = (B_xo==0);\n",
    "zeroIndices_by = (B_y==0);\n",
    "zeroIndices_bv = (B_v==0);\n",
    "zeroIndices_bz = (B_z==0);\n",
    "zeroIndices_bw = (B_w==0);"
   ]
  },
  {
   "cell_type": "code",
   "execution_count": 17,
   "id": "2a9844c8",
   "metadata": {},
   "outputs": [],
   "source": [
    "# stochastic\n",
    "mu = T\n",
    "cov = np.eye(T.shape[0])\n",
    "alpha = 0.05 # the probability that the actual total appointment time exceeds the total duration of the time slots\n",
    "L = np.zeros([bed_number,1]) # the total ength of time slots on bed b\n",
    "for i in range(patient_type):\n",
    "    for j in range(2):\n",
    "        for t in range(time_step):\n",
    "            bed = int(chair[i,t,j])\n",
    "            if bed != 0:\n",
    "                L[bed-1] = L[bed-1] + T[i]"
   ]
  },
  {
   "cell_type": "code",
   "execution_count": 229,
   "id": "9aa86b6b",
   "metadata": {},
   "outputs": [
    {
     "name": "stdout",
     "output_type": "stream",
     "text": [
      "Set parameter LogFile to value \"model1_deterministic/log/p1.log\"\n"
     ]
    }
   ],
   "source": [
    "version = \"deterministic\"\n",
    "model = gp.Model(\"model 1\")\n",
    "model.setParam(\"LogFile\",f\"model1_{version}/log/p1.log\")\n",
    "x = model.addMVar((patient_type,patient_type,2,time_step), vtype = GRB.BINARY,name = \"x\")\n",
    "y = model.addMVar((patient_type,patient_type,patient_type,2,2,time_step),vtype = GRB.BINARY,name = \"y\")\n",
    "z = model.addMVar((patient_type,patient_type,2,time_step),vtype = GRB.BINARY,name = \"z\")\n",
    "w = model.addMVar((patient_type,patient_type,2,time_step),vtype = GRB.BINARY,name = \"w\")\n",
    "v = model.addMVar((patient_type,patient_type,patient_type,time_step,2),vtype = GRB.BINARY, name = \"v\")\n",
    "q = model.addMVar((patient_type,1),vtype = GRB.INTEGER,name = \"q\")\n",
    "# sqrt_term = model.addMVar(bed_number,vtype = GRB.CONTINUOUS, name = \"squareroot\")\n",
    "u = gp.MLinExpr.zeros((patient_type,time_step))\n",
    "u0 = gp.MLinExpr.zeros((patient_type,time_step))\n",
    "y_c = gp.MLinExpr.zeros((patient_type,patient_type,2,time_step))\n",
    "# s = gp.MLinExpr.zeros((patient_type,bed_number))\n",
    "# s = model.addMVar((patient_type,bed_number),vtype = GRB.INTEGER)\n",
    "xo_s = gp.MLinExpr.zeros((patient_type,patient_type,2,time_step))"
   ]
  },
  {
   "cell_type": "code",
   "execution_count": 230,
   "id": "27ba2f21",
   "metadata": {},
   "outputs": [],
   "source": [
    "# expression\n",
    "xo_s = B_xo * x"
   ]
  },
  {
   "cell_type": "code",
   "execution_count": 215,
   "id": "16775673",
   "metadata": {},
   "outputs": [],
   "source": [
    "# stochastic\n",
    "s = model.addMVar((patient_type,bed_number),vtype = GRB.INTEGER)\n",
    "for i in range(patient_type):\n",
    "    for b in range(bed_number):\n",
    "        xs = 0\n",
    "        ys = 0\n",
    "        vs1 = 0\n",
    "        vs2 = 0\n",
    "        for ip in range(patient_type):\n",
    "            for j in range(2):\n",
    "                for t in range(time_step):\n",
    "                    if chair[ip,t,j] == b:\n",
    "                        xs += x[i,ip,j,t]\n",
    "                        ys += y[i,ip,:,j,:,t].sum()\n",
    "                        vs1 += v[i,:,ip,t,j].sum()\n",
    "                        vs2 += v[:,i,ip,t,j].sum()\n",
    "        model.addConstr(s[i,b-1] == xs + ys + vs1 + vs2)\n",
    "\n",
    "for b in range(bed_number):\n",
    "    \n",
    "    lhs = model.addVar(name=f\"lhs_{b}\")\n",
    "    model.addConstr(lhs == ((1-alpha)/alpha) * s[:,b] @ cov @ s[:,b])\n",
    "    \n",
    "    rhs = model.addVar(name=f\"rhs_{b}\")\n",
    "    model.addConstr(rhs == L[b] - mu @ s[:,b] )\n",
    "    \n",
    "    model.addConstr(lhs <= rhs*rhs)\n"
   ]
  },
  {
   "cell_type": "code",
   "execution_count": 231,
   "id": "d509fbd5",
   "metadata": {},
   "outputs": [],
   "source": [
    "# equation 8\n",
    "for i in range(patient_type):\n",
    "    for t in range(time_step):\n",
    "        u[i,t] = x[i,:,:,t].sum() + y[i,:,:,:,:,t].sum() + v[i,:,:,t,:].sum() + v[:,i,:,t,:].sum()\n",
    "\n",
    "# equation 9\n",
    "for i in range(patient_type):\n",
    "    for t in range(time_step):\n",
    "        u0[i,t] = xo_s[i,:,:,t].sum() + y[i,:,:,:,:,t].sum() + v[i,:,:,t,:].sum() + v[:,i,:,t,:].sum()\n",
    "\n",
    "# equation 5\n",
    "for i in range(patient_type):\n",
    "    for m in range(patient_type):\n",
    "        for l in range(2):\n",
    "            for t in range(time_step):\n",
    "                for j in range(patient_type):\n",
    "                    if t-T[j]/15 >= 0:\n",
    "                        if c[j,int(t-T[j]/15)] != 0:\n",
    "                            for n in range(c[j,int(t-T[j]/15)]):\n",
    "                                y_c[i,m,l,t] = y_c[i,m,l,t] + y[i,j,m,n,l,int(t-T[j]/15)]\n",
    "\n",
    "# constraints\n",
    "# constraint on the number of appointment assigned\n",
    "for i in range(patient_type):\n",
    "    model.addConstr(u[i,:].sum() <= p[i])\n",
    "# remove redundant variable\n",
    "model.addConstr(x[zeroIndices_bx] == 0)\n",
    "model.addConstr(y[zeroIndices_by] == 0)\n",
    "model.addConstr(v[zeroIndices_bv] == 0)\n",
    "model.addConstr(z[zeroIndices_bz] == 0)\n",
    "model.addConstr(w[zeroIndices_bw] == 0)\n",
    "\n",
    "# equation 10\n",
    "for i in range(patient_type):\n",
    "    model.addConstr(q[i] >= 0)\n",
    "    model.addConstr(q[i] >= p[i] - u[i,:].sum())\n",
    "\n",
    "# equation 1\n",
    "for i in range(patient_type): #i'\n",
    "    for j in range(2):\n",
    "        for t in range(time_step):\n",
    "            if B[i,j,t] != 0:\n",
    "                model.addConstr(x[:,i,j,t].sum() + z[:,i,j,t].sum() + w[:,i,j,t].sum() + (1/2 * v[:,:,i,t,j]).sum() <= 1)\n",
    "\n",
    "# equation 2,3,4\n",
    "for i in range(patient_type): # i\n",
    "    for j in range(patient_type): # i'\n",
    "        for m in range(patient_type): # i\"\n",
    "            for n in range(2): # j'\n",
    "                for l in range(2): #j\"\n",
    "                    for t in range(time_step):\n",
    "                        if B_y[i,j,m,n,l,t] != 0:\n",
    "                            model.addConstr(y[i,j,m,n,l,t] <= z[i,j,n,t])\n",
    "                            if t+T[j]/15 <= time_step-1:\n",
    "                                model.addConstr(y[i,j,m,n,l,t] <= w[i,m,l,int(t+T[j]/15)])\n",
    "                                model.addConstr(y[i,j,m,n,l,t] >= z[i,j,n,t] + w[i,m,l,int(t+T[j]/15)] - 1)\n",
    "\n",
    "# equation 5\n",
    "for i in range(patient_type):\n",
    "    for m in range(patient_type):\n",
    "        for l in range(2):\n",
    "            for t in range(time_step):\n",
    "                if B_w[i,m,l,t] != 0:\n",
    "                    model.addConstr(y_c[i,m,l,t] <= 1)\n",
    "# equation 6\n",
    "for i in range(patient_type):\n",
    "    for j in range(patient_type):\n",
    "        for n in range(2):\n",
    "            for t in range(time_step):\n",
    "                if B_z[i,j,n,t] != 0:\n",
    "                    model.addConstr(y[i,j,:,n,:,t].sum() <= 1)\n",
    "\n",
    "# equation 7\n",
    "for i in range(patient_type):\n",
    "    for t in range(time_step):\n",
    "        for j in range(2):\n",
    "            if V[i,t,j] != 0:\n",
    "                model.addConstr(v[:,:,i,t,j].sum() <= 1)\n",
    "\n",
    "\n",
    "            "
   ]
  },
  {
   "cell_type": "code",
   "execution_count": 232,
   "id": "681e93d4",
   "metadata": {},
   "outputs": [
    {
     "name": "stdout",
     "output_type": "stream",
     "text": [
      "Gurobi Optimizer version 12.0.0 build v12.0.0rc1 (mac64[arm] - Darwin 23.1.0 23B2073)\n",
      "\n",
      "CPU model: Apple M3 Pro\n",
      "Thread count: 12 physical cores, 12 logical processors, using up to 12 threads\n",
      "\n",
      "Optimize a model with 96213 rows, 96439 columns and 330001 nonzeros\n",
      "Model fingerprint: 0x8e991376\n",
      "Variable types: 0 continuous, 96439 integer (96432 binary)\n",
      "Coefficient statistics:\n",
      "  Matrix range     [5e-01, 2e+00]\n",
      "  Objective range  [5e+00, 5e+01]\n",
      "  Bounds range     [1e+00, 1e+00]\n",
      "  RHS range        [1e+00, 2e+01]\n",
      "Found heuristic solution: objective 2350.0000000\n",
      "Presolve removed 96028 rows and 95904 columns\n",
      "Presolve time: 0.02s\n",
      "Presolved: 185 rows, 535 columns, 2315 nonzeros\n",
      "Variable types: 0 continuous, 535 integer (529 binary)\n",
      "Performing another presolve...\n",
      "Presolve removed 120 rows and 167 columns\n",
      "Presolve time: 0.00s\n",
      "\n",
      "Root relaxation: objective 1.600000e+01, 35 iterations, 0.00 seconds (0.00 work units)\n",
      "\n",
      "    Nodes    |    Current Node    |     Objective Bounds      |     Work\n",
      " Expl Unexpl |  Obj  Depth IntInf | Incumbent    BestBd   Gap | It/Node Time\n",
      "\n",
      "*    0     0               0      16.0000000   16.00000  0.00%     -    0s\n",
      "\n",
      "Explored 1 nodes (35 simplex iterations) in 0.05 seconds (0.07 work units)\n",
      "Thread count was 12 (of 12 available processors)\n",
      "\n",
      "Solution count 2: 16 2350 \n",
      "\n",
      "Optimal solution found (tolerance 1.00e-04)\n",
      "Best objective 1.600000000000e+01, best bound 1.600000000000e+01, gap 0.0000%\n"
     ]
    }
   ],
   "source": [
    "model.setObjective(lambda1*q.sum() + lambda2*u0.sum() + lambda3*xo_s.sum() + lambda4*y.sum() + lambda5*v.sum(),GRB.MINIMIZE)\n",
    "model.optimize()"
   ]
  },
  {
   "cell_type": "code",
   "execution_count": null,
   "id": "ace15c4c",
   "metadata": {},
   "outputs": [],
   "source": [
    "x_arr = np.array(x.X)\n",
    "y_arr = np.array(y.X)\n",
    "v_arr = np.array(v.X)\n",
    "z_arr = np.array(z.X)\n",
    "w_arr = np.array(w.X)\n",
    "q_arr = np.array(q.X)"
   ]
  },
  {
   "cell_type": "code",
   "execution_count": 236,
   "id": "f7440bca",
   "metadata": {},
   "outputs": [],
   "source": [
    "#save result\n",
    "result = {\"x_arr\":x_arr,\"y_arr\":y_arr,\"v_arr\":v_arr,\"z_arr\":z_arr,\"w_arr\":w_arr,\"q_arr\":q_arr,\"B_xo\":B_xo}\n",
    "np.save(f\"model1_{version}/result/p1.npy\",result)"
   ]
  },
  {
   "cell_type": "code",
   "execution_count": 204,
   "id": "7e1b51c1",
   "metadata": {},
   "outputs": [],
   "source": [
    "u_arr = np.zeros([patient_type,time_step])\n",
    "for i in range(patient_type):\n",
    "    for t in range(time_step):\n",
    "        u_arr[i,t] = x_arr[i,:,:,t].sum() + y_arr[i,:,:,:,:,t].sum() + v_arr[i,:,:,t,:].sum() + v_arr[:,i,:,t,:].sum()"
   ]
  },
  {
   "cell_type": "code",
   "execution_count": 205,
   "id": "bbd5c06a",
   "metadata": {},
   "outputs": [],
   "source": [
    "amount_check = []\n",
    "for i in range(patient_type):\n",
    "    amount_check.append(u_arr[i,:].sum())"
   ]
  },
  {
   "cell_type": "code",
   "execution_count": 206,
   "id": "e233e5cf",
   "metadata": {},
   "outputs": [
    {
     "data": {
      "text/plain": [
       "[15.0, 9.0, 8.0, 5.0, 8.0, 2.0, 0.0]"
      ]
     },
     "execution_count": 206,
     "metadata": {},
     "output_type": "execute_result"
    }
   ],
   "source": [
    "amount_check"
   ]
  },
  {
   "cell_type": "code",
   "execution_count": 207,
   "id": "90119707",
   "metadata": {},
   "outputs": [
    {
     "data": {
      "text/plain": [
       "2.0"
      ]
     },
     "execution_count": 207,
     "metadata": {},
     "output_type": "execute_result"
    }
   ],
   "source": [
    "(B_xo * x.X).sum()"
   ]
  },
  {
   "cell_type": "code",
   "execution_count": 74,
   "id": "dc3fdcb3",
   "metadata": {},
   "outputs": [
    {
     "data": {
      "text/plain": [
       "1.0"
      ]
     },
     "execution_count": 74,
     "metadata": {},
     "output_type": "execute_result"
    }
   ],
   "source": [
    "y.X.sum()"
   ]
  },
  {
   "cell_type": "code",
   "execution_count": 75,
   "id": "ca429430",
   "metadata": {},
   "outputs": [
    {
     "data": {
      "text/plain": [
       "0.0"
      ]
     },
     "execution_count": 75,
     "metadata": {},
     "output_type": "execute_result"
    }
   ],
   "source": [
    "v.X.sum()"
   ]
  },
  {
   "cell_type": "code",
   "execution_count": 153,
   "id": "cea1df35",
   "metadata": {},
   "outputs": [
    {
     "data": {
      "text/plain": [
       "46.0"
      ]
     },
     "execution_count": 153,
     "metadata": {},
     "output_type": "execute_result"
    }
   ],
   "source": [
    "x_arr.sum()"
   ]
  },
  {
   "cell_type": "code",
   "execution_count": 239,
   "id": "f9221e3a",
   "metadata": {},
   "outputs": [
    {
     "data": {
      "text/plain": [
       "[(0, 0, 0, 0),\n",
       " (0, 0, 0, 1),\n",
       " (0, 0, 0, 2),\n",
       " (0, 0, 0, 5),\n",
       " (0, 0, 0, 6),\n",
       " (0, 0, 0, 7),\n",
       " (0, 0, 0, 8),\n",
       " (0, 0, 0, 9),\n",
       " (0, 0, 0, 10),\n",
       " (0, 0, 0, 20),\n",
       " (0, 0, 0, 32),\n",
       " (0, 0, 0, 34),\n",
       " (0, 0, 1, 1),\n",
       " (0, 0, 1, 2),\n",
       " (0, 0, 1, 10),\n",
       " (1, 1, 0, 4),\n",
       " (1, 1, 0, 8),\n",
       " (1, 1, 0, 9),\n",
       " (1, 1, 0, 12),\n",
       " (1, 1, 0, 19),\n",
       " (1, 1, 0, 30),\n",
       " (1, 1, 1, 4),\n",
       " (1, 1, 1, 8),\n",
       " (1, 2, 0, 7),\n",
       " (2, 2, 0, 2),\n",
       " (2, 2, 0, 11),\n",
       " (2, 2, 0, 12),\n",
       " (2, 2, 0, 22),\n",
       " (2, 2, 0, 27),\n",
       " (2, 2, 0, 28),\n",
       " (2, 2, 0, 31),\n",
       " (2, 2, 1, 27),\n",
       " (3, 3, 0, 3),\n",
       " (3, 3, 0, 6),\n",
       " (3, 3, 0, 8),\n",
       " (3, 3, 1, 16),\n",
       " (3, 3, 1, 28),\n",
       " (4, 4, 0, 3),\n",
       " (4, 4, 0, 15),\n",
       " (4, 4, 0, 20),\n",
       " (4, 4, 0, 21),\n",
       " (4, 4, 0, 22),\n",
       " (4, 4, 0, 24),\n",
       " (4, 6, 0, 13),\n",
       " (5, 5, 0, 8),\n",
       " (5, 5, 0, 12)]"
      ]
     },
     "execution_count": 239,
     "metadata": {},
     "output_type": "execute_result"
    }
   ],
   "source": [
    "# find combined timeslots for an appointment\n",
    "# x_arr = np.array(x.X)\n",
    "\n",
    "x_nonzero_idx = np.nonzero(x_arr)\n",
    "\n",
    "x_nonzero_idx = list(zip(x_nonzero_idx[0],x_nonzero_idx[1], x_nonzero_idx[2],x_nonzero_idx[3]))\n",
    "\n",
    "x_nonzero_idx #(i,i',j,t)"
   ]
  },
  {
   "cell_type": "code",
   "execution_count": 228,
   "id": "7e53d848",
   "metadata": {},
   "outputs": [
    {
     "data": {
      "text/plain": [
       "[(4, 3, 3, 0, 0, 16)]"
      ]
     },
     "execution_count": 228,
     "metadata": {},
     "output_type": "execute_result"
    }
   ],
   "source": [
    "# find combined timeslots for an appointment\n",
    "# x_arr = np.array(x.X)\n",
    "\n",
    "y_nonzero_idx = np.nonzero(y_arr)\n",
    "\n",
    "y_nonzero_idx = list(zip(y_nonzero_idx[0],y_nonzero_idx[1], y_nonzero_idx[2],y_nonzero_idx[3],y_nonzero_idx[4],y_nonzero_idx[5]))\n",
    "\n",
    "y_nonzero_idx #(i,i',i\",j',j\",t)"
   ]
  },
  {
   "cell_type": "code",
   "execution_count": 66,
   "id": "53e76a84",
   "metadata": {},
   "outputs": [
    {
     "data": {
      "text/plain": [
       "[]"
      ]
     },
     "execution_count": 66,
     "metadata": {},
     "output_type": "execute_result"
    }
   ],
   "source": [
    "# find combined timeslots for an appointment\n",
    "# x_arr = np.array(x.X)\n",
    "\n",
    "v_nonzero_idx = np.nonzero(v_arr)\n",
    "\n",
    "v_nonzero_idx = list(zip(v_nonzero_idx[0],v_nonzero_idx[1], v_nonzero_idx[2],v_nonzero_idx[3],v_nonzero_idx[4]))\n",
    "\n",
    "v_nonzero_idx #(i,i',i\",j',t)\n"
   ]
  },
  {
   "cell_type": "code",
   "execution_count": 246,
   "id": "cd7b6cd8",
   "metadata": {},
   "outputs": [],
   "source": [
    "#deterministic\n",
    "loaded_result = np.load('model1_stochastic/result/p1.npy', allow_pickle=True).item()"
   ]
  },
  {
   "cell_type": "code",
   "execution_count": 247,
   "id": "649dc053",
   "metadata": {},
   "outputs": [],
   "source": [
    "x_arr = loaded_result[\"x_arr\"]\n",
    "y_arr = loaded_result[\"y_arr\"]\n",
    "v_arr = loaded_result[\"v_arr\"]\n",
    "z_arr = loaded_result[\"z_arr\"]\n",
    "w_arr = loaded_result[\"w_arr\"]\n",
    "q_arr = loaded_result[\"q_arr\"]"
   ]
  },
  {
   "cell_type": "code",
   "execution_count": null,
   "id": "2b9f56c0",
   "metadata": {},
   "outputs": [],
   "source": [
    "# transfer optimal solution for model 3 first step\n",
    "f = np.zeros([patient_type,14])\n",
    "beta = np.zeros([patient_type,14])\n",
    "theta = np.zeros([14])\n",
    "for ip in range(patient_type):\n",
    "    for j in range(2):\n",
    "        for t in range(time_step):\n",
    "            if x_arr[:,ip,j,t].sum() != 0 or y_arr[:,ip,:,j,:,t].sum() != 0 or v_arr[:,:,ip,t,j].sum() != 0:\n",
    "                bed = int(chair[ip,t,j])\n",
    "                for i in range(patient_type):\n",
    "                    if x_arr[i,ip,j,t] != 0 or y_arr[i,ip,:,j,:,t].sum() != 0 or v_arr[i,:,ip,t,j].sum() != 0 or v_arr[:,i,ip,t,j].sum() != 0:\n",
    "                        f[i,bed-1] += 1\n",
    "                        beta[i,bed-1] = 1\n",
    "                theta[bed-1] = 1\n"
   ]
  },
  {
   "cell_type": "code",
   "execution_count": null,
   "id": "bf25774e",
   "metadata": {},
   "outputs": [],
   "source": [
    "# check feasibility in model 3 first step\n",
    "f >= 0"
   ]
  },
  {
   "cell_type": "code",
   "execution_count": null,
   "id": "6a3d8569",
   "metadata": {},
   "outputs": [],
   "source": [
    "theta >= beta"
   ]
  },
  {
   "cell_type": "code",
   "execution_count": null,
   "id": "8504b3c8",
   "metadata": {},
   "outputs": [],
   "source": [
    "beta <= f"
   ]
  },
  {
   "cell_type": "code",
   "execution_count": null,
   "id": "173012aa",
   "metadata": {},
   "outputs": [],
   "source": [
    "phi = np.array(p)\n",
    "res = []\n",
    "for k in range(patient_type):\n",
    "    res.append(f[k,:].sum() <= phi[k])"
   ]
  },
  {
   "cell_type": "code",
   "execution_count": null,
   "id": "7f39db7b",
   "metadata": {},
   "outputs": [],
   "source": [
    "res"
   ]
  },
  {
   "cell_type": "code",
   "execution_count": null,
   "id": "421258ac",
   "metadata": {},
   "outputs": [],
   "source": [
    "leng = []\n",
    "for b in range(14):\n",
    "    leng.append(T@f[:,b] <= L[b]*theta[b])"
   ]
  },
  {
   "cell_type": "code",
   "execution_count": null,
   "id": "d1a7c437",
   "metadata": {},
   "outputs": [],
   "source": [
    "leng"
   ]
  },
  {
   "cell_type": "code",
   "execution_count": null,
   "id": "d7b6c1c1",
   "metadata": {},
   "outputs": [],
   "source": []
  }
 ],
 "metadata": {
  "kernelspec": {
   "display_name": "Python 3 (ipykernel)",
   "language": "python",
   "name": "python3"
  },
  "language_info": {
   "codemirror_mode": {
    "name": "ipython",
    "version": 3
   },
   "file_extension": ".py",
   "mimetype": "text/x-python",
   "name": "python",
   "nbconvert_exporter": "python",
   "pygments_lexer": "ipython3",
   "version": "3.11.5"
  }
 },
 "nbformat": 4,
 "nbformat_minor": 5
}
