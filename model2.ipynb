{
 "cells": [
  {
   "cell_type": "code",
   "execution_count": 1,
   "id": "69a38f8e",
   "metadata": {},
   "outputs": [],
   "source": [
    "import gurobipy as gp\n",
    "from gurobipy import GRB\n",
    "import scipy.io\n",
    "import numpy as np\n",
    "import math"
   ]
  },
  {
   "cell_type": "code",
   "execution_count": 2,
   "id": "2083b61e",
   "metadata": {},
   "outputs": [],
   "source": [
    "# randomly generate the instances\n",
    "patient_type = np.array([30,60,120,180,240,300,360])\n",
    "# appointmentNumber = 10\n",
    "# # a = np.random.choice(patient_type, size=appointmentNumber, replace=True)\n",
    "# # B = 14\n",
    "# a=np.array([30,60,60,60,120,60,30,60,120])"
   ]
  },
  {
   "cell_type": "code",
   "execution_count": 4,
   "id": "d9cdd2d4",
   "metadata": {},
   "outputs": [],
   "source": [
    "instances = \"p1\"\n",
    "# p = [15,9,8,5,8,2,0]\n",
    "p = [0,1,1,0,0,0,0]\n",
    "a = []\n",
    "for i in range(len(patient_type)):\n",
    "    a.extend([patient_type[i]]*p[i])\n",
    "a = np.array(a)"
   ]
  },
  {
   "cell_type": "code",
   "execution_count": 5,
   "id": "09fbab67",
   "metadata": {},
   "outputs": [],
   "source": [
    "# get template of schedule\n",
    "u1 = np.array([0,30,60,120,150,180,240,420])\n",
    "v1 = np.array([30,60,120,150,180,240,420,600])\n",
    "u2 = np.array([15,60,120,180,300,330,450,510])\n",
    "v2 = np.array([45,120,180,300,330,450,510,540])\n",
    "u3 = np.array([15,75,105,135,165,285,465])\n",
    "v3 = np.array([45,105,135,165,285,465,585])\n",
    "u4 = np.array([30,75,105,135,195])\n",
    "v4 = np.array([60,105,135,195,555])\n",
    "u5 = np.array([30,150,180,360])\n",
    "v5 = np.array([150,180,360,600])\n",
    "u6 = np.array([45,225,405])\n",
    "v6 = np.array([225,405,525])\n",
    "u7 = np.array([45,285,345,375,405])\n",
    "v7 = np.array([285,345,375,405,525])\n",
    "u8 = np.array([90,120,180,480])\n",
    "v8 = np.array([120,180,480,510])\n",
    "u9 = np.array([90,270,300,330])\n",
    "v9 = np.array([270,300,330,570])\n",
    "u10 = np.array([105,225,465,495])\n",
    "v10 = np.array([225,465,495,525])\n",
    "u11 = np.array([120,240,420])\n",
    "v11 = np.array([240,420,600])\n",
    "u12 = np.array([120,300])\n",
    "v12 = np.array([300,540])\n",
    "u13 = np.array([120,420])\n",
    "v13 = np.array([420,540])\n",
    "u14 = np.array([135,315])\n",
    "v14 = np.array([315,555])\n",
    "\n",
    "# u = [u1,u2,u3,u4,u5,u6,u7,u8,u9,u10,u11,u12,u13,u14]\n",
    "# v = [v1,v2,v3,v4,v5,v6,v7,v8,v9,v10,v11,v12,v13,v14]\n",
    "u = [u2]\n",
    "v = [v2]\n",
    "# B=14\n",
    "B=1\n",
    "\n",
    "n = len(a)\n",
    "m = []\n",
    "T = []\n",
    "for i in range(len(u)):\n",
    "    m.append(len(u[i]))\n",
    "for i in range(len(v)):\n",
    "    T.append(v[i][-1])\n",
    "T = np.array(T)\n"
   ]
  },
  {
   "cell_type": "code",
   "execution_count": 6,
   "id": "5f063791",
   "metadata": {},
   "outputs": [],
   "source": [
    "epsilon = 0.05\n",
    "M = []\n",
    "for i in range(B):\n",
    "    M.append(10000)\n",
    "low_b = np.min(a)"
   ]
  },
  {
   "cell_type": "code",
   "execution_count": 7,
   "id": "74a7197e",
   "metadata": {},
   "outputs": [
    {
     "name": "stdout",
     "output_type": "stream",
     "text": [
      "Set parameter Username\n",
      "Set parameter LicenseID to value 2598989\n",
      "Academic license - for non-commercial use only - expires 2025-12-13\n"
     ]
    }
   ],
   "source": [
    "model = gp.Model(\"model 2\")\n",
    "# model.setParam(\"LogFile\",f\"model2/log/{instances}.log\")\n",
    "w = model.addMVar((n,n,B),vtype = GRB.BINARY,name = \"w\")\n",
    "z = model.addMVar((n,max(m),B),vtype = GRB.BINARY,name = \"z\")\n",
    "y = model.addMVar((max(m),B,n),vtype = GRB.BINARY,name = \"y\")\n",
    "x = model.addMVar((n,max(m),B),vtype = GRB.BINARY,name = \"x\")\n",
    "g = model.addMVar((n,B),vtype = GRB.BINARY,name = \"g\")\n",
    "h = model.addMVar((max(m),B),vtype = GRB.BINARY,name = \"h\")\n",
    "r = model.addMVar((n,B),vtype = GRB.BINARY,name = \"r\")\n",
    "q = model.addMVar((max(m),B,n),vtype = GRB.BINARY,name = \"q\")\n",
    "s = model.addMVar((n,B),vtype = GRB.CONTINUOUS, name = \"s\")\n",
    "t = model.addMVar((n,B),vtype = GRB.CONTINUOUS,name = \"t\")\n",
    "d = model.addMVar((n,B),vtype = GRB.CONTINUOUS, name = \"d\")\n",
    "p = model.addMVar((n,max(m),B),vtype = GRB.CONTINUOUS, name = \"p\")\n",
    "x_o = model.addMVar((n,max(m),B),vtype = GRB.CONTINUOUS,name = \"x_o\")\n"
   ]
  },
  {
   "cell_type": "code",
   "execution_count": 8,
   "id": "f8269124",
   "metadata": {},
   "outputs": [],
   "source": [
    "expr = gp.MLinExpr.zeros((n,max(m),B))\n",
    "for i in range(n):\n",
    "    for b in range(B):\n",
    "        for j in range(m[b]):\n",
    "#             model.addConstr(x_o[i,j,b] == p[i,j,b] / (v[b][j]-u[b][j]))\n",
    "            expr[i,j,b] = p[i,j,b] / (v[b][j]-u[b][j])"
   ]
  },
  {
   "cell_type": "code",
   "execution_count": 21,
   "id": "12574353",
   "metadata": {},
   "outputs": [],
   "source": [
    "model.addConstr(s+d <= t)\n",
    "for i in range(n):\n",
    "    for b in range(B):\n",
    "        model.addConstr(s[i,b] >= u[b][0])\n",
    "        model.addConstr(t[i,b] >= u[b][0])\n",
    "        model.addConstr(t[i,b] <= T[b]+M[b]*(1-r[i,b]))\n",
    "        if i >= 1:\n",
    "            model.addConstr(t[i-1,b] <= s[i,b])\n",
    "        model.addConstr(w[i,:,b].sum() <= 1)\n",
    "        if i < n-1:\n",
    "            model.addConstr(w[i,:,b].sum() >= w[i+1,:,b].sum())\n",
    "        model.addConstr(w[i,:,b].sum() >= r[i,b])\n",
    "        model.addConstr(d[i,b] == w[i,:,b]@a)\n",
    "    model.addConstr(w[:,i,:].sum() <= 1)\n",
    "for b in range(B):\n",
    "    for i in range(n-1):\n",
    "        model.addConstr(r[i,b] >= r[i+1,b])\n",
    "for i in range(n):\n",
    "    for b in range(B):\n",
    "        for j in range(m[b]):\n",
    "            model.addConstr(p[i,j,b] >= x[i,j,b] * low_b)\n",
    "            model.addConstr(p[i,j,b] >= t[i,b] - s[i,b] + x[i,j,b]*T[b]-T[b])\n",
    "            model.addConstr(p[i,j,b] <= t[i,b] - s[i,b] + x[i,j,b]*low_b-low_b)\n",
    "            model.addConstr(p[i,j,b] <= x[i,j,b]*T[b])\n",
    "#             model.addConstr(p[i,j,b] >= x[i,j,b] * 0)\n",
    "#             model.addConstr(p[i,j,b] >= d[i,b] + x[i,j,b]*360-360)\n",
    "#             model.addConstr(p[i,j,b] >= d[i,b] + x[i,j,b]*360-360)\n",
    "#             model.addConstr(p[i,j,b] <= d[i,b] + x[i,j,b]*0-0)\n",
    "#             model.addConstr(p[i,j,b] <= x[i,j,b]*360)\n",
    "\n",
    "# constraints for z\n",
    "for i in range(1,n):\n",
    "    for b in range(B):\n",
    "        for j in range(m[b]):\n",
    "            model.addConstr(t[i-1,b] - epsilon >= u[b][j] - M[b]*(1-z[i,j,b]))\n",
    "            model.addConstr(s[i,b] + epsilon <= v[b][j] + M[b]*(1-z[i,j,b]))\n",
    "            model.addConstr(z[i,j,b] <= r[i,b])\n",
    "            model.addConstr(z[i,j,b] <= r[i-1,b])\n",
    "    model.addConstr(z[i,:,:].sum() <= 1)\n",
    "for b in range(B):\n",
    "    for j in range(m[b]):\n",
    "        model.addConstr(z[0,j,b] == 0)\n",
    "\n",
    " \n",
    "\n",
    "# constraints for y when y = 1\n",
    "for i in range(n):\n",
    "    for b in range(B):\n",
    "        for j in range(1,m[b]):\n",
    "            model.addConstr(s[i,b] + epsilon <= v[b][j-1] + M[b]*(1-y[j,b,i]))\n",
    "            model.addConstr(t[i,b] - epsilon >= v[b][j-1] - M[b]*(1-y[j,b,i]))\n",
    "            model.addConstr(y[j,b,i] <= r[i,b])\n",
    "for b in range(B):\n",
    "    for j in range(1,m[b]):\n",
    "        model.addConstr(y[j,b,:].sum() <= 1)  \n",
    "        \n",
    "# constraints for y when y = 0\n",
    "for i in range(n):\n",
    "    for b in range(B):\n",
    "        for j in range(1,m[b]):\n",
    "            model.addConstr(s[i,b] + M[b]*q[j,b,i] + M[b]*y[j,b,i] >= v[b][j-1])\n",
    "            model.addConstr(t[i,b] - M[b]*(1-q[j,b,i])-M[b]*y[j,b,i] <= v[b][j-1])\n",
    "for i in range(n):\n",
    "    for b in range(B):\n",
    "        model.addConstr(y[0,b,i] == 0)\n",
    "        model.addConstr(q[0,b,i] == 0)\n",
    "for i in range(n):\n",
    "    for b in range(B):\n",
    "        for j in range(1,m[b]):\n",
    "            model.addConstr(q[j,b,i] >= y[j,b,i])\n",
    "\n",
    "# constraints for g\n",
    "for i in range(1,n-1):\n",
    "    for b in range(1,B):\n",
    "#         temp1 = 0\n",
    "#         for j in range(1,m[b]):\n",
    "#             temp1 = temp1 + y[j,b,i]\n",
    "        model.addConstr(g[i,b] <= z[i,:,b].sum()+z[i+1,:,b].sum()+y[1:,b,i].sum())\n",
    "for b in range(B):   \n",
    "#     temp2 = 0\n",
    "#     for j in range(1,m[b]):\n",
    "#         temp2 = temp2 + y[j,b,0]\n",
    "    model.addConstr(g[0,b] <= z[1,:,b].sum() + y[1:,b,0].sum())    \n",
    "for b in range(B):\n",
    "#     temp3 = 0\n",
    "#     for j in range(1,m[b]):\n",
    "#         temp3 = temp3 + y[j,b,n-1]\n",
    "    model.addConstr(g[n-1,b] <= z[n-1,:,b] + y[1:,b,n-1].sum())\n",
    "for i in range (1,n):\n",
    "    for b in range(B):\n",
    "        model.addConstr(g[i,b] >= z[i,:,b].sum())\n",
    "for i in range(n):\n",
    "    for b in range(B):\n",
    "        for j in range(1,m[b]):\n",
    "            model.addConstr(g[i,b] >= y[j,b,i])\n",
    "        model.addConstr(g[i,b] >= 0)\n",
    "        model.addConstr(g[i,b] <= 1)\n",
    "\n",
    "# constraints for h\n",
    "for b in range(B):\n",
    "    for j in range(1,m[b]-1):\n",
    "#         temp4 = 0\n",
    "#         for i in range(1,n):\n",
    "#             temp4 = temp4 + z[i,j,b]\n",
    "        model.addConstr(h[j,b] <= z[1:,j,b].sum() + y[j,b,:].sum() + y[j+1,b,:].sum())\n",
    "        \n",
    "for b in range(B):\n",
    "#     temp5 = 0\n",
    "#     for i in range(1,n):\n",
    "#         temp5 = temp5 + z[i,0,b]\n",
    "    model.addConstr(h[0,b] <= z[1:,0,b].sum() + y[1,b,:].sum())     \n",
    "for b in range(B):\n",
    "#     temp6 = 0\n",
    "#     for i in range(1,n):\n",
    "#         temp6 = temp6 + z[i,m[b]-1,b]\n",
    "    model.addConstr(h[m[b]-1,b] <= z[1:,m[b]-1,b].sum() + y[m[b]-1,b,:].sum())\n",
    "for b in range(B):\n",
    "    for j in range(m[b]):\n",
    "        for i in range(1,n):\n",
    "            model.addConstr(h[j,b] >= z[i,j,b])\n",
    "        model.addConstr(h[j,b] >= 0)\n",
    "        model.addConstr(h[j,b] <= 1)\n",
    "for b in range(B):\n",
    "    for j in range(1,m[b]):\n",
    "        model.addConstr(h[j,b] >= y[j,b,:].sum())\n",
    "\n",
    "\n",
    "# constraints for x\n",
    "for i in range(n):\n",
    "    for b in range(B):\n",
    "        for j in range(m[b]):\n",
    "            model.addConstr(x[i,j,b] <= 1-h[j,b])\n",
    "            model.addConstr(x[i,j,b] <= 1-g[i,b])\n",
    "            model.addConstr(x[i,j,b] <= r[i,b])\n",
    "            model.addConstr(s[i,b] >= u[b][j] - M[b]*(1-x[i,j,b]))\n",
    "            model.addConstr(t[i,b] <= v[b][j] + M[b]*(1-x[i,j,b]))\n",
    "        model.addConstr(x[i,:,b].sum() <= r[i,b])\n",
    "        model.addConstr(x[i,:,b].sum() == r[i,b] - g[i,b])\n",
    "for b in range(B):\n",
    "    for j in range(m[b]):\n",
    "        model.addConstr(x[:,j,b].sum() <= 1)\n",
    "        \n",
    "# newly added\n",
    "for i in range(n):\n",
    "    for b in range(B):\n",
    "        for j in range(m[b]):\n",
    "            model.addConstr(t[i,b] - epsilon >= u[b][j] - M[b]*(1-x[i,j,b]))\n",
    "            model.addConstr(s[i,b] + epsilon <= v[b][j] + M[b]*(1-x[i,j,b]))\n"
   ]
  },
  {
   "cell_type": "code",
   "execution_count": 20,
   "id": "ded4299f",
   "metadata": {},
   "outputs": [
    {
     "data": {
      "text/plain": [
       "0"
      ]
     },
     "execution_count": 20,
     "metadata": {},
     "output_type": "execute_result"
    }
   ],
   "source": [
    "b"
   ]
  },
  {
   "cell_type": "code",
   "execution_count": 22,
   "id": "b851ea5a",
   "metadata": {},
   "outputs": [
    {
     "name": "stdout",
     "output_type": "stream",
     "text": [
      "Gurobi Optimizer version 12.0.0 build v12.0.0rc1 (mac64[arm] - Darwin 23.1.0 23B2073)\n",
      "\n",
      "CPU model: Apple M3 Pro\n",
      "Thread count: 12 physical cores, 12 logical processors, using up to 12 threads\n",
      "\n",
      "Optimize a model with 1507 rows, 118 columns and 3823 nonzeros\n",
      "Model fingerprint: 0x34a7351c\n",
      "Variable types: 38 continuous, 80 integer (80 binary)\n",
      "Coefficient statistics:\n",
      "  Matrix range     [1e+00, 1e+04]\n",
      "  Objective range  [8e-03, 1e+02]\n",
      "  Bounds range     [1e+00, 1e+00]\n",
      "  RHS range        [1e+00, 1e+04]\n",
      "\n",
      "MIP start from previous solve produced solution with objective -202 (0.00s)\n",
      "Loaded MIP start from previous solve with objective -202\n",
      "\n",
      "Presolve removed 1439 rows and 89 columns\n",
      "Presolve time: 0.01s\n",
      "Presolved: 68 rows, 29 columns, 248 nonzeros\n",
      "Variable types: 8 continuous, 21 integer (21 binary)\n",
      "\n",
      "Root relaxation: cutoff, 18 iterations, 0.00 seconds (0.00 work units)\n",
      "\n",
      "    Nodes    |    Current Node    |     Objective Bounds      |     Work\n",
      " Expl Unexpl |  Obj  Depth IntInf | Incumbent    BestBd   Gap | It/Node Time\n",
      "\n",
      "     0     0     cutoff    0      -202.00000 -202.00000  0.00%     -    0s\n",
      "\n",
      "Explored 1 nodes (18 simplex iterations) in 0.03 seconds (0.01 work units)\n",
      "Thread count was 12 (of 12 available processors)\n",
      "\n",
      "Solution count 1: -202 \n",
      "No other solutions better than -202\n",
      "\n",
      "Optimal solution found (tolerance 1.00e-04)\n",
      "Best objective -2.020000000000e+02, best bound -2.020000000000e+02, gap 0.0000%\n"
     ]
    }
   ],
   "source": [
    "model.setObjective(y.sum() + z.sum()-100*r.sum()-expr.sum(),GRB.MINIMIZE)\n",
    "model.optimize()"
   ]
  },
  {
   "cell_type": "code",
   "execution_count": 23,
   "id": "0947fa0e",
   "metadata": {},
   "outputs": [
    {
     "data": {
      "text/plain": [
       "array([[120.],\n",
       "       [180.]])"
      ]
     },
     "execution_count": 23,
     "metadata": {},
     "output_type": "execute_result"
    }
   ],
   "source": [
    "s.X"
   ]
  },
  {
   "cell_type": "code",
   "execution_count": 24,
   "id": "983e474d",
   "metadata": {},
   "outputs": [
    {
     "data": {
      "text/plain": [
       "array([[180.],\n",
       "       [300.]])"
      ]
     },
     "execution_count": 24,
     "metadata": {},
     "output_type": "execute_result"
    }
   ],
   "source": [
    "t.X"
   ]
  },
  {
   "cell_type": "code",
   "execution_count": 13,
   "id": "cb0996d5",
   "metadata": {},
   "outputs": [
    {
     "data": {
      "text/plain": [
       "array([[[1.],\n",
       "        [0.]],\n",
       "\n",
       "       [[0.],\n",
       "        [1.]]])"
      ]
     },
     "execution_count": 13,
     "metadata": {},
     "output_type": "execute_result"
    }
   ],
   "source": [
    "w.X"
   ]
  },
  {
   "cell_type": "code",
   "execution_count": 71,
   "id": "e0567f86",
   "metadata": {},
   "outputs": [],
   "source": [
    "w_arr = np.array(w.X)\n",
    "z_arr = np.array(z.X)\n",
    "y_arr = np.array(y.X)\n",
    "x_arr = np.array(x.X)\n",
    "g_arr = np.array(g.X)\n",
    "h_arr = np.array(h.X)\n",
    "r_arr = np.array(r.X)\n",
    "q_arr = np.array(q.X)\n",
    "s_arr = np.array(s.X)\n",
    "t_arr = np.array(t.X)\n",
    "d_arr = np.array(d.X)\n",
    "p_arr = np.array(p.X)\n",
    "x_o_arr = np.array(x_o.X)"
   ]
  },
  {
   "cell_type": "code",
   "execution_count": 76,
   "id": "c90ef632",
   "metadata": {},
   "outputs": [],
   "source": [
    "#save result\n",
    "result = {\"w_arr\":w_arr,\"z_arr\":z_arr,\"y_arr\":y_arr,\"x_arr\":x_arr,\"g_arr\":g_arr,\n",
    "          \"h_arr\":h_arr,\"r_arr\":r_arr,\"q_arr\":q_arr,\"s_arr\":s_arr,\"t_arr\":t_arr,\n",
    "          \"d_arr\":d_arr,\"p_arr\":p_arr,\"x_o_arr\":x_o_arr,\"p\":p}\n",
    "np.save(f\"model2/result/{instances}.npy\",result)"
   ]
  },
  {
   "cell_type": "code",
   "execution_count": 47,
   "id": "dd2729a4",
   "metadata": {},
   "outputs": [
    {
     "data": {
      "text/plain": [
       "array([[ 30.,  60.],\n",
       "       [ 30.,  30.],\n",
       "       [ 60.,  30.],\n",
       "       [ 30.,  30.],\n",
       "       [ 30.,  30.],\n",
       "       [ 60.,  30.],\n",
       "       [ 30.,  30.],\n",
       "       [ 60.,  60.],\n",
       "       [ 60.,  30.],\n",
       "       [ 30.,  30.],\n",
       "       [ 60., 120.],\n",
       "       [ 30., 120.],\n",
       "       [ 60., 240.],\n",
       "       [300., 180.],\n",
       "       [180., 240.],\n",
       "       [240.,   0.],\n",
       "       [240.,   0.],\n",
       "       [300.,   0.],\n",
       "       [120.,   0.],\n",
       "       [240.,   0.],\n",
       "       [180.,   0.],\n",
       "       [240.,   0.],\n",
       "       [240.,   0.],\n",
       "       [180.,   0.],\n",
       "       [120.,   0.],\n",
       "       [120.,   0.],\n",
       "       [240.,   0.],\n",
       "       [180.,   0.],\n",
       "       [120.,   0.],\n",
       "       [120.,   0.],\n",
       "       [120.,   0.],\n",
       "       [ 60.,   0.],\n",
       "       [  0.,   0.],\n",
       "       [  0.,   0.],\n",
       "       [  0.,   0.],\n",
       "       [  0.,   0.],\n",
       "       [  0.,   0.],\n",
       "       [  0.,   0.],\n",
       "       [  0.,   0.],\n",
       "       [  0.,   0.],\n",
       "       [  0.,   0.],\n",
       "       [  0.,   0.],\n",
       "       [  0.,   0.],\n",
       "       [  0.,   0.],\n",
       "       [  0.,   0.],\n",
       "       [  0.,   0.],\n",
       "       [  0.,   0.]])"
      ]
     },
     "execution_count": 47,
     "metadata": {},
     "output_type": "execute_result"
    }
   ],
   "source": [
    "d.X"
   ]
  },
  {
   "cell_type": "code",
   "execution_count": 16,
   "id": "b2302d99",
   "metadata": {},
   "outputs": [],
   "source": [
    "s_arr = np.array(s.X)\n",
    "s_arr_tran = s_arr.transpose()\n",
    "t_arr = np.array(t.X)\n",
    "t_arr_tran = t_arr.transpose()"
   ]
  },
  {
   "cell_type": "code",
   "execution_count": 17,
   "id": "f326313f",
   "metadata": {},
   "outputs": [],
   "source": [
    "import pandas as pd"
   ]
  },
  {
   "cell_type": "code",
   "execution_count": 18,
   "id": "34229701",
   "metadata": {},
   "outputs": [],
   "source": [
    "# generate results of time assigned\n",
    "time_assign = []\n",
    "for i in range(s_arr_tran.shape[0]):\n",
    "    temp = {}\n",
    "    temp[\"s\"] = s_arr_tran[i]\n",
    "    temp[\"t\"] = t_arr_tran[i]\n",
    "    df = pd.DataFrame(temp)\n",
    "\n",
    "    time_assign.append(df)"
   ]
  },
  {
   "cell_type": "code",
   "execution_count": 32,
   "id": "82e7f961",
   "metadata": {},
   "outputs": [
    {
     "data": {
      "text/html": [
       "<div>\n",
       "<style scoped>\n",
       "    .dataframe tbody tr th:only-of-type {\n",
       "        vertical-align: middle;\n",
       "    }\n",
       "\n",
       "    .dataframe tbody tr th {\n",
       "        vertical-align: top;\n",
       "    }\n",
       "\n",
       "    .dataframe thead th {\n",
       "        text-align: right;\n",
       "    }\n",
       "</style>\n",
       "<table border=\"1\" class=\"dataframe\">\n",
       "  <thead>\n",
       "    <tr style=\"text-align: right;\">\n",
       "      <th></th>\n",
       "      <th>s</th>\n",
       "      <th>t</th>\n",
       "    </tr>\n",
       "  </thead>\n",
       "  <tbody>\n",
       "    <tr>\n",
       "      <th>0</th>\n",
       "      <td>45.0</td>\n",
       "      <td>285.0</td>\n",
       "    </tr>\n",
       "    <tr>\n",
       "      <th>1</th>\n",
       "      <td>285.0</td>\n",
       "      <td>345.0</td>\n",
       "    </tr>\n",
       "    <tr>\n",
       "      <th>2</th>\n",
       "      <td>345.0</td>\n",
       "      <td>375.0</td>\n",
       "    </tr>\n",
       "    <tr>\n",
       "      <th>3</th>\n",
       "      <td>375.0</td>\n",
       "      <td>405.0</td>\n",
       "    </tr>\n",
       "    <tr>\n",
       "      <th>4</th>\n",
       "      <td>405.0</td>\n",
       "      <td>525.0</td>\n",
       "    </tr>\n",
       "    <tr>\n",
       "      <th>5</th>\n",
       "      <td>525.0</td>\n",
       "      <td>1515.0</td>\n",
       "    </tr>\n",
       "    <tr>\n",
       "      <th>6</th>\n",
       "      <td>1515.0</td>\n",
       "      <td>1523.3</td>\n",
       "    </tr>\n",
       "    <tr>\n",
       "      <th>7</th>\n",
       "      <td>1523.3</td>\n",
       "      <td>1523.3</td>\n",
       "    </tr>\n",
       "    <tr>\n",
       "      <th>8</th>\n",
       "      <td>1523.3</td>\n",
       "      <td>2235.0</td>\n",
       "    </tr>\n",
       "  </tbody>\n",
       "</table>\n",
       "</div>"
      ],
      "text/plain": [
       "        s       t\n",
       "0    45.0   285.0\n",
       "1   285.0   345.0\n",
       "2   345.0   375.0\n",
       "3   375.0   405.0\n",
       "4   405.0   525.0\n",
       "5   525.0  1515.0\n",
       "6  1515.0  1523.3\n",
       "7  1523.3  1523.3\n",
       "8  1523.3  2235.0"
      ]
     },
     "execution_count": 32,
     "metadata": {},
     "output_type": "execute_result"
    }
   ],
   "source": [
    "time_assign[1]"
   ]
  },
  {
   "cell_type": "code",
   "execution_count": 19,
   "id": "0dd22282",
   "metadata": {},
   "outputs": [],
   "source": [
    "d_arr = np.array(d.X)\n",
    "d_arr_tran = d_arr.transpose()"
   ]
  },
  {
   "cell_type": "code",
   "execution_count": 20,
   "id": "3378116e",
   "metadata": {},
   "outputs": [
    {
     "data": {
      "text/plain": [
       "array([[ 60.,  60.,  60., 120.,   0.,   0.,   0.,   0.,   0.],\n",
       "       [ 60.,  60.,  30.,  30., 120.,   0.,   0.,   0.,   0.]])"
      ]
     },
     "execution_count": 20,
     "metadata": {},
     "output_type": "execute_result"
    }
   ],
   "source": [
    "d_arr_tran"
   ]
  },
  {
   "cell_type": "code",
   "execution_count": 21,
   "id": "c0b135bd",
   "metadata": {},
   "outputs": [],
   "source": [
    "count = {0:0,30:0,60:0,120:0,180:0,240:0,300:0,360:0}\n",
    "for bed in range(B):\n",
    "    for i in range(len(a)):\n",
    "        count[d_arr_tran[bed,i]] += 1 "
   ]
  },
  {
   "cell_type": "code",
   "execution_count": 22,
   "id": "28e85aa1",
   "metadata": {},
   "outputs": [
    {
     "data": {
      "text/plain": [
       "{0: 9, 30: 2, 60: 5, 120: 2, 180: 0, 240: 0, 300: 0, 360: 0}"
      ]
     },
     "execution_count": 22,
     "metadata": {},
     "output_type": "execute_result"
    }
   ],
   "source": [
    "count"
   ]
  },
  {
   "cell_type": "code",
   "execution_count": 23,
   "id": "dc0606e6",
   "metadata": {},
   "outputs": [
    {
     "data": {
      "text/plain": [
       "[]"
      ]
     },
     "execution_count": 23,
     "metadata": {},
     "output_type": "execute_result"
    }
   ],
   "source": [
    "# find combined timeslots for an appointment\n",
    "y_arr = np.array(y.X)\n",
    "\n",
    "y_nonzero_idx = np.nonzero(y_arr)\n",
    "\n",
    "y_nonzero_idx = list(zip(y_nonzero_idx[0], y_nonzero_idx[1],y_nonzero_idx[2]))\n",
    "\n",
    "y_nonzero_idx #(j,b,i)"
   ]
  },
  {
   "cell_type": "code",
   "execution_count": 27,
   "id": "88ccbefe",
   "metadata": {},
   "outputs": [
    {
     "data": {
      "text/plain": [
       "9"
      ]
     },
     "execution_count": 27,
     "metadata": {},
     "output_type": "execute_result"
    }
   ],
   "source": [
    "# # find combined timeslots for an appointment\n",
    "# x_arr = np.array(x.X)\n",
    "\n",
    "# x_nonzero_idx = np.nonzero(x_arr)\n",
    "\n",
    "# x_nonzero_idx = list(zip(x_nonzero_idx[0], x_nonzero_idx[1],x_nonzero_idx[2]))\n",
    "\n",
    "# len(x_nonzero_idx)#(i,j,b)"
   ]
  },
  {
   "cell_type": "code",
   "execution_count": 24,
   "id": "81477225",
   "metadata": {},
   "outputs": [],
   "source": [
    "# find the number of timeslots for policy 3 which is assigned to a smaller appointment"
   ]
  },
  {
   "cell_type": "code",
   "execution_count": 28,
   "id": "562848de",
   "metadata": {},
   "outputs": [
    {
     "name": "stdout",
     "output_type": "stream",
     "text": [
      "0 0 1\n",
      "2 6 0\n",
      "3 7 0\n"
     ]
    }
   ],
   "source": [
    "p_arr = np.array(p.X)\n",
    "policy3 = 0\n",
    "for i in range(n):\n",
    "    for b in range(B):\n",
    "        for j in range(m[b]):\n",
    "            if d_arr[i,b]!= 0 and x_arr[i,j,b] != 0:\n",
    "                temp = d_arr[i,b] / (v[b][j]-u[b][j])\n",
    "                if temp != 1:\n",
    "                    print(i,j,b)\n",
    "                    policy3 += 1 "
   ]
  },
  {
   "cell_type": "code",
   "execution_count": 29,
   "id": "abaacc19",
   "metadata": {},
   "outputs": [
    {
     "data": {
      "text/plain": [
       "3"
      ]
     },
     "execution_count": 29,
     "metadata": {},
     "output_type": "execute_result"
    }
   ],
   "source": [
    "policy3"
   ]
  },
  {
   "cell_type": "code",
   "execution_count": null,
   "id": "25a4b0f0",
   "metadata": {},
   "outputs": [],
   "source": [
    "d_arr.shape"
   ]
  },
  {
   "cell_type": "code",
   "execution_count": null,
   "id": "ac9b7de3",
   "metadata": {},
   "outputs": [],
   "source": [
    "p_arr[0,:,0].sum()"
   ]
  },
  {
   "cell_type": "code",
   "execution_count": null,
   "id": "2308bea3",
   "metadata": {},
   "outputs": [],
   "source": [
    "d_arr[0,0]"
   ]
  },
  {
   "cell_type": "code",
   "execution_count": null,
   "id": "a25ca792",
   "metadata": {},
   "outputs": [],
   "source": [
    "# find combined timeslots for an appointment\n",
    "z_arr = np.array(z.X)\n",
    "\n",
    "z_nonzero_idx = np.nonzero(z_arr)\n",
    "\n",
    "z_nonzero_idx = list(zip(z_nonzero_idx[0], z_nonzero_idx[1],z_nonzero_idx[2]))\n",
    "\n",
    "len(z_nonzero_idx)#(i,j,b)"
   ]
  },
  {
   "cell_type": "code",
   "execution_count": null,
   "id": "649f0b88",
   "metadata": {},
   "outputs": [],
   "source": [
    "d_arr[0,0]"
   ]
  },
  {
   "cell_type": "code",
   "execution_count": null,
   "id": "392e7b3c",
   "metadata": {},
   "outputs": [],
   "source": [
    "p_arr[4,:,3]"
   ]
  },
  {
   "cell_type": "code",
   "execution_count": null,
   "id": "80d03924",
   "metadata": {},
   "outputs": [],
   "source": [
    "x_arr[0,:,0]"
   ]
  },
  {
   "cell_type": "code",
   "execution_count": null,
   "id": "2e105c9a",
   "metadata": {},
   "outputs": [],
   "source": [
    "h_arr = np.array(h.X)\n",
    "h_arr[0,0]\n"
   ]
  },
  {
   "cell_type": "code",
   "execution_count": null,
   "id": "1aab085c",
   "metadata": {},
   "outputs": [],
   "source": [
    "s_arr[0,0]"
   ]
  },
  {
   "cell_type": "code",
   "execution_count": null,
   "id": "d796d650",
   "metadata": {},
   "outputs": [],
   "source": [
    "v[0][0]"
   ]
  },
  {
   "cell_type": "code",
   "execution_count": null,
   "id": "95d408ec",
   "metadata": {},
   "outputs": [],
   "source": [
    "x_arr[0,0,0]"
   ]
  },
  {
   "cell_type": "code",
   "execution_count": null,
   "id": "bec4e3bf",
   "metadata": {},
   "outputs": [],
   "source": [
    "epsilon"
   ]
  },
  {
   "cell_type": "code",
   "execution_count": 30,
   "id": "2ae13125",
   "metadata": {},
   "outputs": [
    {
     "data": {
      "text/plain": [
       "True"
      ]
     },
     "execution_count": 30,
     "metadata": {},
     "output_type": "execute_result"
    }
   ],
   "source": [
    "s_arr[0,0] + epsilon <= v[0][0] + M[0]*(1-x_arr[0,0,0])"
   ]
  },
  {
   "cell_type": "code",
   "execution_count": null,
   "id": "1a742c46",
   "metadata": {},
   "outputs": [],
   "source": []
  }
 ],
 "metadata": {
  "kernelspec": {
   "display_name": "Python 3 (ipykernel)",
   "language": "python",
   "name": "python3"
  },
  "language_info": {
   "codemirror_mode": {
    "name": "ipython",
    "version": 3
   },
   "file_extension": ".py",
   "mimetype": "text/x-python",
   "name": "python",
   "nbconvert_exporter": "python",
   "pygments_lexer": "ipython3",
   "version": "3.11.5"
  }
 },
 "nbformat": 4,
 "nbformat_minor": 5
}
